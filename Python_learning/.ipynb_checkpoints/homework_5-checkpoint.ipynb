{
 "cells": [
  {
   "cell_type": "markdown",
   "metadata": {},
   "source": [
    "# Домашнее задание к лекции \"Функции\""
   ]
  },
  {
   "cell_type": "markdown",
   "metadata": {},
   "source": [
    "Вам нужно помочь секретарю автоматизировать работу. Для этого нужно написать программу, которая будет на основе хранимых данных исполнять пользовательские команды.\n",
    "\n",
    "Исходные данные имеют следующую структуру:\n",
    "\n",
    "перечень всех документов\n",
    "\n",
    "documents = [\n",
    "    {'type': 'passport', 'number': '2207 876234', 'name': 'Василий Гупкин'}, \n",
    "    {'type': 'invoice', 'number': '11-2', 'name': 'Геннадий Покемонов'}, \n",
    "    {'type': 'insurance', 'number': '10006', 'name': 'Аристарх Павлов'}]\n",
    "\n",
    "перечень полок, на которых хранятся документы (если документ есть в documents, то он обязательно должен быть и в \n",
    "\n",
    "directories = {'1': ['2207 876234', '11-2'], '2': ['10006'], '3': []}\n",
    "\n",
    "Общие требования к программе:\n",
    "\n",
    "код должен быть грамотно декомпозирован (каждая функция отвечает за свою конкретную задачу, дублирующийся функционал переиспользуется, а его код не повторяется);\n",
    "в коде отсутствуют глобальные переменные (за исключением documents и directories);\n",
    "пользовательский ввод обрабатывается в цикле while до тех пор, пока пользователь явно не завершит программу (вводом команды \"q\")."
   ]
  },
  {
   "cell_type": "markdown",
   "metadata": {},
   "source": [
    "# Задание 1"
   ]
  },
  {
   "cell_type": "markdown",
   "metadata": {},
   "source": [
    "#### Пункт 1. Пользователь по команде \"p\" может узнать владельца документа по его номеру"
   ]
  },
  {
   "cell_type": "markdown",
   "metadata": {},
   "source": [
    "Примеры работы:\n",
    "\n",
    "1.\n",
    "\n",
    "Введите команду:\n",
    "p\n",
    "\n",
    "Введите номер документа:\n",
    "\n",
    "10006\n",
    "\n",
    "Результат:\n",
    "\n",
    "Владелец документа: Аристарх Павлов\n",
    "\n",
    "2.\n",
    "\n",
    "Введите команду:\n",
    "\n",
    "p\n",
    "\n",
    "Введите номер документа:\n",
    "\n",
    "12345\n",
    "\n",
    "Результат:\n",
    "\n",
    "Документ не найден в базе"
   ]
  },
  {
   "cell_type": "code",
   "execution_count": 8,
   "metadata": {},
   "outputs": [],
   "source": [
    "documents = [\n",
    "    {'type': 'passport', 'number': '2207 876234', 'name': 'Василий Гупкин'}, \n",
    "    {'type': 'invoice', 'number': '11-2', 'name': 'Геннадий Покемонов'}, \n",
    "    {'type': 'insurance', 'number': '10006', 'name': 'Аристарх Павлов'}]\n",
    "\n",
    "directories = {'1': ['2207 876234', '11-2'], '2': ['10006'], '3': []}"
   ]
  },
  {
   "cell_type": "code",
   "execution_count": 50,
   "metadata": {},
   "outputs": [
    {
     "name": "stdout",
     "output_type": "stream",
     "text": [
      "Введите номер ключа: 4\n",
      "ключа нет\n"
     ]
    }
   ],
   "source": [
    "n = input(\"Введите номер ключа: \")\n",
    "if n in directories.keys():\n",
    "    for i in directories.values():\n",
    "        print(i)\n",
    "else:\n",
    "    print(\"ключа нет\")"
   ]
  },
  {
   "cell_type": "code",
   "execution_count": 34,
   "metadata": {},
   "outputs": [
    {
     "name": "stdout",
     "output_type": "stream",
     "text": [
      "Введите команду: s\n",
      "Введите номер документа:10006\n",
      "Документ не найден в базе\n"
     ]
    }
   ],
   "source": [
    "def function(*args):\n",
    "    args = input(\"Введите команду: \")\n",
    "    if args == \"p\":\n",
    "        existing = False\n",
    "        num = input(\"Введите номер документа:\")\n",
    "        for word in documents:\n",
    "            if \"number\" in word.keys() and word[\"number\"] == num:\n",
    "                print(word[\"name\"])\n",
    "                existing = True\n",
    "\n",
    "        if not existing:\n",
    "            print(\"Документ не найден в базе\")\n",
    "    \n",
    "    elif args == \"s\":\n",
    "        existing = False\n",
    "        num = input(\"Введите номер документа:\")\n",
    "        for word in directories.keys() and word[\"\"]:\n",
    "            if num in directories.values():\n",
    "                print(\"Документ хранится на полке: \", directories.keys())\n",
    "                existing = True\n",
    "\n",
    "        if not existing:\n",
    "            print(\"Документ не найден в базе\")\n",
    "\n",
    "function()"
   ]
  },
  {
   "cell_type": "markdown",
   "metadata": {},
   "source": [
    "#### Пункт 2. Пользователь по команде “s” может по номеру документа узнать на какой полке он хранится\n",
    "\n",
    "Примеры работы:\n",
    "\n",
    "Введите команду:\n",
    "s\n",
    "\n",
    "Введите номер документа:\n",
    "10006\n",
    "\n",
    "Результат:\n",
    "Документ хранится на полке: 2\n",
    "\n",
    "Введите команду:\n",
    "p\n",
    "\n",
    "Введите номер документа:\n",
    "12345\n",
    "\n",
    "Результат:\n",
    "Документ не найден в базе"
   ]
  },
  {
   "cell_type": "code",
   "execution_count": null,
   "metadata": {},
   "outputs": [],
   "source": []
  }
 ],
 "metadata": {
  "kernelspec": {
   "display_name": "Python 3",
   "language": "python",
   "name": "python3"
  },
  "language_info": {
   "codemirror_mode": {
    "name": "ipython",
    "version": 3
   },
   "file_extension": ".py",
   "mimetype": "text/x-python",
   "name": "python",
   "nbconvert_exporter": "python",
   "pygments_lexer": "ipython3",
   "version": "3.8.3"
  }
 },
 "nbformat": 4,
 "nbformat_minor": 4
}
